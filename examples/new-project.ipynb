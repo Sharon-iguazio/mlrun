{
 "cells": [
  {
   "cell_type": "markdown",
   "metadata": {},
   "source": [
    "# Creating A New MLRun Project\n",
    "  --------------------------------------------------------------------\n",
    "\n",
    "Creating a full project with multiple functions and workflow and working wit Git.\n",
    "\n",
    "#### Notebook How-Tos\n",
    "* Add local or library/remote functions\n",
    "* Add a workflow\n",
    "* Save to a remote git\n",
    "* Run pipeline"
   ]
  },
  {
   "cell_type": "markdown",
   "metadata": {},
   "source": [
    "<a id='top'></a>\n",
    "#### Steps\n",
    "[Add functions](#load-functions)<br>\n",
    "[Create and save a workflow](#create-workflow)<br>\n",
    "[Update remote git](#git-remote)<br>\n",
    "[Run a pipeline workflow](#run-pipeline)<br>"
   ]
  },
  {
   "cell_type": "code",
   "execution_count": 1,
   "metadata": {},
   "outputs": [],
   "source": [
    "from mlrun import new_project, new_function, mount_v3io"
   ]
  },
  {
   "cell_type": "code",
   "execution_count": 2,
   "metadata": {},
   "outputs": [],
   "source": [
    "# update the dir and repo to reflect real locations \n",
    "# the remote git repo must be initialized in GitHub\n",
    "project_dir = '/User/new-proj'\n",
    "remote_git = 'https://github.com/<my-org>/<my-repo>.git'\n",
    "newproj = new_project('new-project', project_dir, init_git=True)"
   ]
  },
  {
   "cell_type": "markdown",
   "metadata": {},
   "source": [
    "Set the remote git repo and pull to sync in case it has some content"
   ]
  },
  {
   "cell_type": "code",
   "execution_count": null,
   "metadata": {},
   "outputs": [],
   "source": [
    "newproj.create_remote(remote_git)"
   ]
  },
  {
   "cell_type": "code",
   "execution_count": 4,
   "metadata": {},
   "outputs": [],
   "source": [
    "newproj.pull()"
   ]
  },
  {
   "cell_type": "markdown",
   "metadata": {},
   "source": [
    "<a id='load-functions'></a>\n",
    "### Load functions from remote URLs\n",
    "We create two functions:\n",
    "1. Load a function from a remote notebook url ( converted into a function object)\n",
    "2. Create a function from file in the context dir (w copy a demo file into the dir) "
   ]
  },
  {
   "cell_type": "code",
   "execution_count": 5,
   "metadata": {},
   "outputs": [
    {
     "data": {
      "text/plain": [
       "<mlrun.projects.project.MlrunProject at 0x7faf78d99f98>"
      ]
     },
     "execution_count": 5,
     "metadata": {},
     "output_type": "execute_result"
    }
   ],
   "source": [
    "newproj.set_function('https://raw.githubusercontent.com/mlrun/functions/master/serving/xgboost/xgb_serving.ipynb', 'serving')"
   ]
  },
  {
   "cell_type": "code",
   "execution_count": 6,
   "metadata": {},
   "outputs": [
    {
     "name": "stdout",
     "output_type": "stream",
     "text": [
      "  % Total    % Received % Xferd  Average Speed   Time    Time     Time  Current\n",
      "                                 Dload  Upload   Total   Spent    Left  Speed\n",
      "100   513  100   513    0     0   8127      0 --:--:-- --:--:-- --:--:--  8142\n"
     ]
    }
   ],
   "source": [
    "!curl -o {project_dir}/handler.py https://raw.githubusercontent.com/mlrun/mlrun/master/examples/handler.py"
   ]
  },
  {
   "cell_type": "code",
   "execution_count": 7,
   "metadata": {},
   "outputs": [
    {
     "name": "stdout",
     "output_type": "stream",
     "text": [
      "kind: job\n",
      "metadata:\n",
      "  name: tstfunc\n",
      "  project: new-project\n",
      "spec:\n",
      "  command: handler.py\n",
      "  args: []\n",
      "  image: ''\n",
      "  volumes: []\n",
      "  volume_mounts: []\n",
      "  env: []\n",
      "  description: ''\n",
      "  build:\n",
      "    source: git://github.com/yaronha/mlp2.git#refs/heads/master\n",
      "    base_image: mlrun/mlrun\n",
      "    commands: []\n",
      "    code_origin: https://github.com/yaronha/mlp2.git#bc4adced86588da3354d5d5d2cc5feece83d8310\n",
      "\n"
     ]
    }
   ],
   "source": [
    "new_func = new_function(name='tstfunc', command='handler.py', kind='job')\n",
    "new_func.spec.build.base_image = 'mlrun/mlrun'\n",
    "newproj.set_function(new_func)\n",
    "print(newproj.func('tstfunc').to_yaml())"
   ]
  },
  {
   "cell_type": "markdown",
   "metadata": {},
   "source": [
    "<a id='create-workflow'></a>\n",
    "### Create a workflow file and store it in the context dir"
   ]
  },
  {
   "cell_type": "code",
   "execution_count": 8,
   "metadata": {},
   "outputs": [
    {
     "name": "stdout",
     "output_type": "stream",
     "text": [
      "Overwriting /User/new-proj/workflow.py\n"
     ]
    }
   ],
   "source": [
    "%%writefile {project_dir}/workflow.py\n",
    "from kfp import dsl\n",
    "from mlrun import mount_v3io\n",
    "\n",
    "artifacts_path = './'\n",
    "funcs = {}\n",
    "\n",
    "def init_functions(functions: dict, params=None, secrets=None):\n",
    "    pass\n",
    "\n",
    "@dsl.pipeline(\n",
    "    name='demo project', description='Demonstrates how to use MLRun.'\n",
    ")\n",
    "def kfpipeline(p1=3):\n",
    "    # First step: build the function container\n",
    "    builder = funcs['tstfunc'].deploy_step(with_mlrun=False)\n",
    "\n",
    "    # First step\n",
    "    s1 = funcs['tstfunc'].as_step(name='step-one', handler='my_func',\n",
    "         image=builder.outputs['image'],\n",
    "         params={'p1': p1}, out_path=artifacts_path)\n"
   ]
  },
  {
   "cell_type": "code",
   "execution_count": 10,
   "metadata": {},
   "outputs": [],
   "source": [
    "newproj.set_workflow('main', 'workflow.py')"
   ]
  },
  {
   "cell_type": "code",
   "execution_count": 11,
   "metadata": {},
   "outputs": [
    {
     "name": "stdout",
     "output_type": "stream",
     "text": [
      "name: new-project\n",
      "functions:\n",
      "- url: https://raw.githubusercontent.com/mlrun/functions/master/serving/xgboost/xgb_serving.ipynb\n",
      "  name: serving\n",
      "- name: tstfunc\n",
      "  spec:\n",
      "    kind: job\n",
      "    metadata:\n",
      "      name: tstfunc\n",
      "      project: new-project\n",
      "    spec:\n",
      "      command: handler.py\n",
      "      args: []\n",
      "      image: ''\n",
      "      env: []\n",
      "      description: ''\n",
      "      build:\n",
      "        source: ./\n",
      "        base_image: mlrun/mlrun\n",
      "        commands: []\n",
      "        code_origin: https://github.com/yaronha/mlp2.git#bc4adced86588da3354d5d5d2cc5feece83d8310\n",
      "workflows:\n",
      "- name: main\n",
      "  code: workflow.py\n",
      "\n"
     ]
    }
   ],
   "source": [
    "print(newproj.to_yaml())"
   ]
  },
  {
   "cell_type": "markdown",
   "metadata": {},
   "source": [
    "<a id='git-remote'></a>\n",
    "### Register and push the project to a remote Repo"
   ]
  },
  {
   "cell_type": "code",
   "execution_count": 12,
   "metadata": {},
   "outputs": [],
   "source": [
    "newproj.push('master', 'first push', add=['handler.py', 'workflow.py'])"
   ]
  },
  {
   "cell_type": "code",
   "execution_count": 13,
   "metadata": {},
   "outputs": [
    {
     "data": {
      "text/plain": [
       "'git://github.com/yaronha/mlp2.git#refs/heads/master'"
      ]
     },
     "execution_count": 13,
     "metadata": {},
     "output_type": "execute_result"
    }
   ],
   "source": [
    "newproj.source"
   ]
  },
  {
   "cell_type": "markdown",
   "metadata": {},
   "source": [
    "<a id='run-pipeline'></a>\n",
    "### Run the workflow"
   ]
  },
  {
   "cell_type": "code",
   "execution_count": 14,
   "metadata": {},
   "outputs": [
    {
     "name": "stderr",
     "output_type": "stream",
     "text": [
      "/User/.pythonlibs/jupyter/lib/python3.6/site-packages/kfp/components/_data_passing.py:133: UserWarning: Missing type name was inferred as \"Integer\" based on the value \"3\".\n",
      "  warnings.warn('Missing type name was inferred as \"{}\" based on the value \"{}\".'.format(type_name, str(value)))\n"
     ]
    },
    {
     "data": {
      "text/html": [
       "Experiment link <a href=\"https://dashboard.default-tenant.app.yh41.iguazio-cd2.com/pipelines/#/experiments/details/c1d1a67a-b6c6-4d63-b312-0de8801ee40e\" target=\"_blank\" >here</a>"
      ],
      "text/plain": [
       "<IPython.core.display.HTML object>"
      ]
     },
     "metadata": {},
     "output_type": "display_data"
    },
    {
     "data": {
      "text/html": [
       "Run link <a href=\"https://dashboard.default-tenant.app.yh41.iguazio-cd2.com/pipelines/#/runs/details/adfa389b-faef-4e56-8b89-ced0f7c97937\" target=\"_blank\" >here</a>"
      ],
      "text/plain": [
       "<IPython.core.display.HTML object>"
      ]
     },
     "metadata": {},
     "output_type": "display_data"
    },
    {
     "name": "stdout",
     "output_type": "stream",
     "text": [
      "[mlrun] 2020-02-27 15:24:40,697 Pipeline run id=adfa389b-faef-4e56-8b89-ced0f7c97937, check the MLRun dashboard or DB for progress\n"
     ]
    },
    {
     "data": {
      "text/plain": [
       "'adfa389b-faef-4e56-8b89-ced0f7c97937'"
      ]
     },
     "execution_count": 14,
     "metadata": {},
     "output_type": "execute_result"
    }
   ],
   "source": [
    "newproj.run('main', arguments={}, artifact_path='v3io:///users/admin/mlrun/kfp/{{workflow.uid}}/', )"
   ]
  },
  {
   "cell_type": "markdown",
   "metadata": {},
   "source": [
    "[Back to top](#top)"
   ]
  }
 ],
 "metadata": {
  "kernelspec": {
   "display_name": "Python 3",
   "language": "python",
   "name": "python3"
  },
  "language_info": {
   "codemirror_mode": {
    "name": "ipython",
    "version": 3
   },
   "file_extension": ".py",
   "mimetype": "text/x-python",
   "name": "python",
   "nbconvert_exporter": "python",
   "pygments_lexer": "ipython3",
   "version": "3.6.8"
  }
 },
 "nbformat": 4,
 "nbformat_minor": 4
}
