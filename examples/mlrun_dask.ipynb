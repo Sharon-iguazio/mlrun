{
 "cells": [
  {
   "cell_type": "markdown",
   "metadata": {},
   "source": [
    "# Using MLRUN with Dask Distributed Jobs"
   ]
  },
  {
   "cell_type": "code",
   "execution_count": 1,
   "metadata": {},
   "outputs": [],
   "source": [
    "# NOTE: It's recommended that you install the exact package versions:\n",
    "#!pip install dask==2.9.1 distributed==2.9.1 kubernetes==10.0.0 dask_kubernetes==0.10.0 kubernetes-asyncio==10.0.0 msgpack==0.6.2"
   ]
  },
  {
   "cell_type": "markdown",
   "metadata": {},
   "source": [
    "## Writing Function Code"
   ]
  },
  {
   "cell_type": "code",
   "execution_count": 2,
   "metadata": {},
   "outputs": [],
   "source": [
    "# function that will be distributed \n",
    "def inc(x):\n",
    "    return x+2"
   ]
  },
  {
   "cell_type": "markdown",
   "metadata": {},
   "source": [
    "The MLRun context in the case of Dask will have an extra param `dask_client`\n",
    "which is initialized based on the function spec (below), and can be used to submit Dask commands."
   ]
  },
  {
   "cell_type": "code",
   "execution_count": 3,
   "metadata": {},
   "outputs": [],
   "source": [
    "# wrapper function, uses the dask client object\n",
    "def hndlr(context, x=1,y=2):\n",
    "    context.logger.info('params: x={},y={}'.format(x,y))\n",
    "    print('params: x={},y={}'.format(x,y))\n",
    "    x = context.dask_client.submit(inc, x)\n",
    "    print(x)\n",
    "    print(x.result())\n",
    "    context.log_result('y', x.result())"
   ]
  },
  {
   "cell_type": "code",
   "execution_count": 4,
   "metadata": {},
   "outputs": [],
   "source": [
    "# nuclio: end-code\n",
    "# marks the end of a code section, do not delete"
   ]
  },
  {
   "cell_type": "code",
   "execution_count": 5,
   "metadata": {},
   "outputs": [],
   "source": [
    "# nuclio: ignore\n",
    "import nuclio"
   ]
  },
  {
   "cell_type": "code",
   "execution_count": 6,
   "metadata": {},
   "outputs": [],
   "source": [
    "from mlrun import new_function, mlconf, code_to_function, mount_v3io, NewTask\n",
    "mlconf.dbpath = 'http://mlrun-api:8080'"
   ]
  },
  {
   "cell_type": "markdown",
   "metadata": {},
   "source": [
    "## Define a Dask Function Object\n",
    "Dask functions can be local (local workers) or remote (using containers on a remote cluster).\n",
    "For remote functions, you can optionally select whether to specify the number of replicas or leave this configuration empty for auto-scaling.\n",
    "\n",
    "The following example uses the `code_to_function` method to pack the function code from the web notebook into a function object (a YAML configuration file), thus eliminating the need to update the function image.\n",
    "Alternatively, you can use the `new_function` method if the function code is part of the image or can be remotely mounted (for example, via the `v3io` mount).\n",
    "\n",
    "The Dask function specification has several unique attributes:\n",
    "- **`.remote`** (`bool`) &mdash; `True` to use a remote or clustered Dask function; `False` (default) otherwise.\n",
    "- **`.replicas`** &mdash; the number of desired replicas; 0 is used for auto-scaling.\n",
    "- **`.min_replicas`, `.max_replicas`** &mdash; the minimum and maximum number of replicas for auto-scaling.\n",
    "- **`.scheduler_timeout`** &mdash; an inactivity timeout period after which the cluster will be killed; the default is `'60 minutes'` (1 hour).\n",
    "* **`.nthreads`** &mdash; the number of worker threads to use.\n",
    "* **`.kfp_image`** &mdash; the name of the container image to use by the KFP pipeline runner (default: `'mlrun/dask'`).\n",
    "\n",
    "If you want to access the Dask dashboard remotely, you need to use the `NodePort` service type by setting `.service_type` to 'NodePort', and the external IP needs to be specified in the MLRun configuration (`mlconf.remote_host`).\n",
    "This is set automatically when running on an Iguazio Data Science Platform cluster.\n",
    "If you want to use the `NodePort` for remote access to the scheduler, you need to also specify `function.use_remote=True`."
   ]
  },
  {
   "cell_type": "code",
   "execution_count": 9,
   "metadata": {},
   "outputs": [],
   "source": [
    "# Create an `xgb_train` Nuclio function from the notebook code and annotations;\n",
    "# add a v3io data volume and a multi-worker HTTP trigger for parallel execution\n",
    "dsf = code_to_function('mydask', kind='dask').apply(mount_v3io())"
   ]
  },
  {
   "cell_type": "code",
   "execution_count": 10,
   "metadata": {},
   "outputs": [],
   "source": [
    "dsf.spec.image = 'daskdev/dask:2.9.1'\n",
    "dsf.spec.remote = True\n",
    "dsf.spec.replicas = 1\n",
    "dsf.spec.service_type = 'NodePort'\n",
    "dsf.spec.image_pull_policy = 'Always'"
   ]
  },
  {
   "cell_type": "markdown",
   "metadata": {},
   "source": [
    "## Build the Function with Extra Packages\n",
    "The following code demonstrates how to build the function with extra packages.\n",
    "You can skip this step if you don't need to add packages.\n",
    "Instead, specify the image image; for example, `dsf.spec.image='daskdev/dask:2.9.1'`."
   ]
  },
  {
   "cell_type": "code",
   "execution_count": 11,
   "metadata": {},
   "outputs": [],
   "source": [
    "# Uncomment to add packages to the workers and build a new image\n",
    "# dsf.build_config(base_image='daskdev/dask:2.9.1', commands=['pip install pandas'])\n",
    "# dsf.deploy()"
   ]
  },
  {
   "cell_type": "markdown",
   "metadata": {},
   "source": [
    "## Run a Task Using a Distributed Dask Function (Cluster)"
   ]
  },
  {
   "cell_type": "code",
   "execution_count": 12,
   "metadata": {},
   "outputs": [
    {
     "name": "stdout",
     "output_type": "stream",
     "text": [
      "[mlrun] 2020-02-24 22:23:48,435 starting run mydask-hndlr uid=d724caf66eba4e4baa86faf539c81b53  -> http://mlrun-api:8080\n",
      "[mlrun] 2020-02-24 22:23:49,032 saving function: mydask, tag: latest\n",
      "[mlrun] 2020-02-24 22:23:56,887 trying dask client at: tcp://mlrun-mydask-75a63220-9.default-tenant:8786\n",
      "[mlrun] 2020-02-24 22:23:56,896 using remote dask scheduler (mlrun-mydask-75a63220-9) at: tcp://mlrun-mydask-75a63220-9.default-tenant:8786\n"
     ]
    },
    {
     "data": {
      "text/html": [
       "<a href=\"http://default-tenant.app.yh41.iguazio-cd2.com:30489/status\" target=\"_blank\" >dashboard link: default-tenant.app.yh41.iguazio-cd2.com:30489</a>"
      ],
      "text/plain": [
       "<IPython.core.display.HTML object>"
      ]
     },
     "metadata": {},
     "output_type": "display_data"
    },
    {
     "name": "stdout",
     "output_type": "stream",
     "text": [
      "[mlrun] 2020-02-24 22:23:56,904 params: x=12,y=2\n",
      "params: x=12,y=2\n",
      "<Future: pending, key: inc-d94d5c09f5ea9337e23aad080db4545d>\n",
      "14\n",
      "\n",
      "[mlrun] 2020-02-24 22:24:02,571 run ended with state \n"
     ]
    },
    {
     "data": {
      "text/html": [
       "<style> \n",
       ".dictlist {\n",
       "  background-color: #b3edff; \n",
       "  text-align: center; \n",
       "  margin: 4px; \n",
       "  border-radius: 3px; padding: 0px 3px 1px 3px; display: inline-block;}\n",
       ".artifact {\n",
       "  cursor: pointer; \n",
       "  background-color: #ffe6cc; \n",
       "  text-align: left; \n",
       "  margin: 4px; border-radius: 3px; padding: 0px 3px 1px 3px; display: inline-block;\n",
       "}\n",
       "div.block.hidden {\n",
       "  display: none;\n",
       "}\n",
       ".clickable {\n",
       "  cursor: pointer;\n",
       "}\n",
       ".ellipsis {\n",
       "  display: inline-block;\n",
       "  max-width: 60px;\n",
       "  white-space: nowrap;\n",
       "  overflow: hidden;\n",
       "  text-overflow: ellipsis;\n",
       "}\n",
       ".master-wrapper {\n",
       "  display: flex;\n",
       "  flex-flow: row nowrap;\n",
       "  justify-content: flex-start;\n",
       "  align-items: stretch;\n",
       "}\n",
       ".master-tbl {\n",
       "  flex: 3\n",
       "}\n",
       ".master-wrapper > div {\n",
       "  margin: 4px;\n",
       "  padding: 10px;\n",
       "}\n",
       "iframe.fileview {\n",
       "  border: 0 none;\n",
       "  height: 100%;\n",
       "  width: 100%;\n",
       "  white-space: pre-wrap;\n",
       "}\n",
       ".pane-header-title {\n",
       "  width: 80%;\n",
       "  font-weight: 500;\n",
       "}\n",
       ".pane-header {\n",
       "  line-height: 1;\n",
       "  background-color: #ffe6cc;\n",
       "  padding: 3px;\n",
       "}\n",
       ".pane-header .close {\n",
       "  font-size: 20px;\n",
       "  font-weight: 700;\n",
       "  float: right;\n",
       "  margin-top: -5px;\n",
       "}\n",
       ".master-wrapper .right-pane {\n",
       "  border: 1px inset silver;\n",
       "  width: 40%;\n",
       "  min-height: 300px;\n",
       "  flex: 3\n",
       "  min-width: 500px;\n",
       "}\n",
       ".master-wrapper * {\n",
       "  box-sizing: border-box;\n",
       "}\n",
       "</style><script>\n",
       "function copyToClipboard(fld) {\n",
       "    if (document.queryCommandSupported && document.queryCommandSupported('copy')) {\n",
       "        var textarea = document.createElement('textarea');\n",
       "        textarea.textContent = fld.innerHTML;\n",
       "        textarea.style.position = 'fixed';\n",
       "        document.body.appendChild(textarea);\n",
       "        textarea.select();\n",
       "\n",
       "        try {\n",
       "            return document.execCommand('copy'); // Security exception may be thrown by some browsers.\n",
       "        } catch (ex) {\n",
       "\n",
       "        } finally {\n",
       "            document.body.removeChild(textarea);\n",
       "        }\n",
       "    }\n",
       "}\n",
       "function expandPanel(el) {\n",
       "  const panelName = \"#\" + el.getAttribute('paneName');\n",
       "  console.log(el.title);\n",
       "\n",
       "  document.querySelector(panelName + \"-title\").innerHTML = el.title\n",
       "  iframe = document.querySelector(panelName + \"-body\");\n",
       "  \n",
       "  const tblcss = `<style> body { font-family: Arial, Helvetica, sans-serif;}\n",
       "    #csv { margin-bottom: 15px; }\n",
       "    #csv table { border-collapse: collapse;}\n",
       "    #csv table td { padding: 4px 8px; border: 1px solid silver;} </style>`;\n",
       "\n",
       "  function csvToHtmlTable(str) {\n",
       "    return '<div id=\"csv\"><table><tr><td>' +  str.replace(/[\\n\\r]+$/g, '').replace(/[\\n\\r]+/g, '</td></tr><tr><td>')\n",
       "      .replace(/,/g, '</td><td>') + '</td></tr></table></div>';\n",
       "  }\n",
       "  \n",
       "  function reqListener () {\n",
       "    if (el.title.endsWith(\".csv\")) {\n",
       "      iframe.setAttribute(\"srcdoc\", tblcss + csvToHtmlTable(this.responseText));\n",
       "    } else {\n",
       "      iframe.setAttribute(\"srcdoc\", this.responseText);\n",
       "    }  \n",
       "    console.log(this.responseText);\n",
       "  }\n",
       "\n",
       "  const oReq = new XMLHttpRequest();\n",
       "  oReq.addEventListener(\"load\", reqListener);\n",
       "  oReq.open(\"GET\", el.title);\n",
       "  oReq.send();\n",
       "  \n",
       "  \n",
       "  //iframe.src = el.title;\n",
       "  const resultPane = document.querySelector(panelName + \"-pane\");\n",
       "  if (resultPane.classList.contains(\"hidden\")) {\n",
       "    resultPane.classList.remove(\"hidden\");\n",
       "  }\n",
       "}\n",
       "function closePanel(el) {\n",
       "  const panelName = \"#\" + el.getAttribute('paneName')\n",
       "  const resultPane = document.querySelector(panelName + \"-pane\");\n",
       "  if (!resultPane.classList.contains(\"hidden\")) {\n",
       "    resultPane.classList.add(\"hidden\");\n",
       "  }\n",
       "}\n",
       "\n",
       "</script>\n",
       "<div class=\"master-wrapper\">\n",
       "  <div class=\"block master-tbl\"><div>\n",
       "<style scoped>\n",
       "    .dataframe tbody tr th:only-of-type {\n",
       "        vertical-align: middle;\n",
       "    }\n",
       "\n",
       "    .dataframe tbody tr th {\n",
       "        vertical-align: top;\n",
       "    }\n",
       "\n",
       "    .dataframe thead th {\n",
       "        text-align: right;\n",
       "    }\n",
       "</style>\n",
       "<table border=\"1\" class=\"dataframe\">\n",
       "  <thead>\n",
       "    <tr style=\"text-align: right;\">\n",
       "      <th>uid</th>\n",
       "      <th>iter</th>\n",
       "      <th>start</th>\n",
       "      <th>state</th>\n",
       "      <th>name</th>\n",
       "      <th>labels</th>\n",
       "      <th>inputs</th>\n",
       "      <th>parameters</th>\n",
       "      <th>results</th>\n",
       "      <th>artifacts</th>\n",
       "    </tr>\n",
       "  </thead>\n",
       "  <tbody>\n",
       "    <tr>\n",
       "      <td><div title=\"d724caf66eba4e4baa86faf539c81b53\">...c81b53</div></td>\n",
       "      <td>0</td>\n",
       "      <td>Feb 24 22:23:48</td>\n",
       "      <td>completed</td>\n",
       "      <td>mydask-hndlr</td>\n",
       "      <td><div class=\"dictlist\">kind=dask</div><div class=\"dictlist\">owner=admin</div><div class=\"dictlist\">host=jupyter-68bdf65845-httbr</div></td>\n",
       "      <td></td>\n",
       "      <td><div class=\"dictlist\">x=12</div></td>\n",
       "      <td><div class=\"dictlist\">y=14</div></td>\n",
       "      <td></td>\n",
       "    </tr>\n",
       "  </tbody>\n",
       "</table>\n",
       "</div></div>\n",
       "  <div id=\"result9b01876c-pane\" class=\"right-pane block hidden\">\n",
       "    <div class=\"pane-header\">\n",
       "      <span id=\"result9b01876c-title\" class=\"pane-header-title\">Title</span>\n",
       "      <span onclick=\"closePanel(this)\" paneName=\"result9b01876c\" class=\"close clickable\">&times;</span>\n",
       "    </div>\n",
       "    <iframe class=\"fileview\" id=\"result9b01876c-body\"></iframe>\n",
       "  </div>\n",
       "</div>\n"
      ],
      "text/plain": [
       "<IPython.core.display.HTML object>"
      ]
     },
     "metadata": {},
     "output_type": "display_data"
    },
    {
     "name": "stdout",
     "output_type": "stream",
     "text": [
      "To track results, use `.show()` or `.logs()` or this  CLI command:\n",
      "!mlrun get run d724caf66eba4e4baa86faf539c81b53  , !mlrun logs d724caf66eba4e4baa86faf539c81b53 \n",
      "[mlrun] 2020-02-24 22:24:02,609 run executed, status=completed\n"
     ]
    }
   ],
   "source": [
    "myrun = dsf.run(handler=hndlr, params={'x': 12})"
   ]
  },
  {
   "cell_type": "code",
   "execution_count": 13,
   "metadata": {},
   "outputs": [
    {
     "data": {
      "text/plain": [
       "{'scheduler_address': 'tcp://mlrun-mydask-75a63220-9.default-tenant:8786',\n",
       " 'cluster_name': 'mlrun-mydask-75a63220-9',\n",
       " 'node_ports': {'dashboard': 30489, 'scheduler': 31426}}"
      ]
     },
     "execution_count": 13,
     "metadata": {},
     "output_type": "execute_result"
    }
   ],
   "source": [
    "# get the function status and addresses\n",
    "dsf.status.to_dict()"
   ]
  },
  {
   "cell_type": "markdown",
   "metadata": {},
   "source": [
    "### Accesing the dask client directly\n",
    "You can get the dask client object and cluster information by reading the client object.\n",
    "\n",
    "> Note: the cluster can timeout, when you call the client MLrun will also verify the cluster is live and active and if not it will restart the dask cluster and refresh the function object with the latest addresses and status."
   ]
  },
  {
   "cell_type": "code",
   "execution_count": 14,
   "metadata": {},
   "outputs": [
    {
     "name": "stdout",
     "output_type": "stream",
     "text": [
      "[mlrun] 2020-02-24 22:24:10,108 trying dask client at: tcp://mlrun-mydask-75a63220-9.default-tenant:8786\n",
      "[mlrun] 2020-02-24 22:24:10,115 using remote dask scheduler (mlrun-mydask-75a63220-9) at: tcp://mlrun-mydask-75a63220-9.default-tenant:8786\n"
     ]
    },
    {
     "data": {
      "text/html": [
       "<a href=\"http://default-tenant.app.yh41.iguazio-cd2.com:30489/status\" target=\"_blank\" >dashboard link: default-tenant.app.yh41.iguazio-cd2.com:30489</a>"
      ],
      "text/plain": [
       "<IPython.core.display.HTML object>"
      ]
     },
     "metadata": {},
     "output_type": "display_data"
    }
   ],
   "source": [
    "c = dsf.client"
   ]
  },
  {
   "cell_type": "markdown",
   "metadata": {},
   "source": [
    "### Access a dask function using the DB\n",
    "If we want to access the dask function (or its cluster), we can load the function object from the DB (assuming we already .run() or .save() it).\n",
    "\n",
    "This can be useful if we want to load the same function in a different notebook or container, or if we restarted our notebook"
   ]
  },
  {
   "cell_type": "code",
   "execution_count": 15,
   "metadata": {},
   "outputs": [
    {
     "name": "stdout",
     "output_type": "stream",
     "text": [
      "[mlrun] 2020-02-24 22:24:15,282 trying dask client at: tcp://mlrun-mydask-75a63220-9.default-tenant:8786\n",
      "[mlrun] 2020-02-24 22:24:15,289 using remote dask scheduler (mlrun-mydask-75a63220-9) at: tcp://mlrun-mydask-75a63220-9.default-tenant:8786\n"
     ]
    },
    {
     "data": {
      "text/html": [
       "<a href=\"http://default-tenant.app.yh41.iguazio-cd2.com:30489/status\" target=\"_blank\" >dashboard link: default-tenant.app.yh41.iguazio-cd2.com:30489</a>"
      ],
      "text/plain": [
       "<IPython.core.display.HTML object>"
      ]
     },
     "metadata": {},
     "output_type": "display_data"
    }
   ],
   "source": [
    "from mlrun import import_function\n",
    "# Functions URL: db://<project>/<name>[:<tag>]\n",
    "dsf_obj = import_function('db://default/mydask')\n",
    "c = dsf_obj.client"
   ]
  },
  {
   "cell_type": "markdown",
   "metadata": {},
   "source": [
    "## Building a Pipeline using dask functions"
   ]
  },
  {
   "cell_type": "code",
   "execution_count": 16,
   "metadata": {},
   "outputs": [],
   "source": [
    "import kfp\n",
    "from kfp import dsl\n",
    "from mlrun import run_pipeline"
   ]
  },
  {
   "cell_type": "code",
   "execution_count": 17,
   "metadata": {},
   "outputs": [],
   "source": [
    "@dsl.pipeline(name=\"dask_pipeline\")\n",
    "def dask_pipe(x=1,y=10):\n",
    "    # use_db option will use a function (DB) pointer instead of adding the function spec to the YAML\n",
    "    myrun = dsf.as_step(NewTask(handler=hndlr, name=\"dask_pipeline\", params={'x': x, 'y': y}), use_db=True)\n",
    "    # is the step (dask client) need v3io access u should add: .apply(mount_v3io())\n",
    "    myrun.container.set_image_pull_policy('Always')"
   ]
  },
  {
   "cell_type": "code",
   "execution_count": 18,
   "metadata": {},
   "outputs": [
    {
     "name": "stdout",
     "output_type": "stream",
     "text": [
      "[mlrun] 2020-02-24 22:24:38,635 saving function: mydask, tag: latest\n"
     ]
    },
    {
     "name": "stderr",
     "output_type": "stream",
     "text": [
      "/User/.pythonlibs/jupyter/lib/python3.6/site-packages/kfp/components/_data_passing.py:133: UserWarning: Missing type name was inferred as \"Integer\" based on the value \"1\".\n",
      "  warnings.warn('Missing type name was inferred as \"{}\" based on the value \"{}\".'.format(type_name, str(value)))\n",
      "/User/.pythonlibs/jupyter/lib/python3.6/site-packages/kfp/components/_data_passing.py:133: UserWarning: Missing type name was inferred as \"Integer\" based on the value \"10\".\n",
      "  warnings.warn('Missing type name was inferred as \"{}\" based on the value \"{}\".'.format(type_name, str(value)))\n"
     ]
    }
   ],
   "source": [
    "# for pipeline debug\n",
    "kfp.compiler.Compiler().compile(dask_pipe, 'daskpipe.yaml', type_check=False)"
   ]
  },
  {
   "cell_type": "code",
   "execution_count": 19,
   "metadata": {
    "scrolled": true
   },
   "outputs": [
    {
     "name": "stdout",
     "output_type": "stream",
     "text": [
      "[mlrun] 2020-02-24 22:24:49,917 saving function: mydask, tag: latest\n"
     ]
    },
    {
     "data": {
      "text/html": [
       "Experiment link <a href=\"https://dashboard.default-tenant.app.yh41.iguazio-cd2.com/pipelines/#/experiments/details/4d3c6154-ce39-4512-b40d-e4ec5b3611f5\" target=\"_blank\" >here</a>"
      ],
      "text/plain": [
       "<IPython.core.display.HTML object>"
      ]
     },
     "metadata": {},
     "output_type": "display_data"
    },
    {
     "data": {
      "text/html": [
       "Run link <a href=\"https://dashboard.default-tenant.app.yh41.iguazio-cd2.com/pipelines/#/runs/details/4eefbad4-abc9-48aa-9dc6-82c70f968a82\" target=\"_blank\" >here</a>"
      ],
      "text/plain": [
       "<IPython.core.display.HTML object>"
      ]
     },
     "metadata": {},
     "output_type": "display_data"
    },
    {
     "name": "stdout",
     "output_type": "stream",
     "text": [
      "[mlrun] 2020-02-24 22:24:49,966 Pipeline run id=4eefbad4-abc9-48aa-9dc6-82c70f968a82, check the MLRun dashboard or DB for progress\n"
     ]
    },
    {
     "data": {
      "text/plain": [
       "'4eefbad4-abc9-48aa-9dc6-82c70f968a82'"
      ]
     },
     "execution_count": 19,
     "metadata": {},
     "output_type": "execute_result"
    }
   ],
   "source": [
    "arguments={'x':4,'y':-5}\n",
    "artifact_path = '/User/test'\n",
    "run_pipeline(dask_pipe, arguments, artifact_path=artifact_path,\n",
    "             run=\"DaskExamplePipeline\", experiment=\"dask pipe\")"
   ]
  },
  {
   "cell_type": "code",
   "execution_count": null,
   "metadata": {},
   "outputs": [],
   "source": []
  }
 ],
 "metadata": {
  "kernelspec": {
   "display_name": "Python 3",
   "language": "python",
   "name": "python3"
  },
  "language_info": {
   "codemirror_mode": {
    "name": "ipython",
    "version": 3
   },
   "file_extension": ".py",
   "mimetype": "text/x-python",
   "name": "python",
   "nbconvert_exporter": "python",
   "pygments_lexer": "ipython3",
   "version": "3.6.8"
  }
 },
 "nbformat": 4,
 "nbformat_minor": 4
}
